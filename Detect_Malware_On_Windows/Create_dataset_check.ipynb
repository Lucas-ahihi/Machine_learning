{
 "cells": [
  {
   "cell_type": "code",
   "execution_count": 10,
   "metadata": {
    "scrolled": true
   },
   "outputs": [],
   "source": [
    "import os\n",
    "import pefile\n",
    "import pprint as pp\n",
    "import pandas as pd\n",
    "import numpy as np\n",
    "import matplotlib.pyplot as plt\n",
    "import re\n",
    "import csv\n",
    "import glob\n",
    "import magic\n",
    "import hashlib\n",
    "import sys\n",
    "import struct\n",
    "import peutils\n",
    "import pefileHuman as peh"
   ]
  },
  {
   "cell_type": "code",
   "execution_count": 11,
   "metadata": {
    "scrolled": true
   },
   "outputs": [],
   "source": [
    "# def sha256_checksum(filename, block_size=65536):\n",
    "#     sha256 = hashlib.sha256()\n",
    "#     with open(filename, 'rb') as f:\n",
    "#         for block in iter(lambda: f.read(block_size), b''):\n",
    "#             sha256.update(block)\n",
    "#     return sha256.hexdigest()\n",
    "\n"
   ]
  },
  {
   "cell_type": "markdown",
   "metadata": {},
   "source": [
    "Now we move on to write a small method that constructs a dictionnary for each PE File thus each sample will be represented as a python dictionnary where keys are the features and values are the value of each parsed field ."
   ]
  },
  {
   "cell_type": "code",
   "execution_count": 12,
   "metadata": {
    "scrolled": true
   },
   "outputs": [],
   "source": [
    "def pe2vec(directory):\n",
    "    \"\"\"\n",
    "    dirty function (handling all exceptions) for each sample\n",
    "    it construct a dictionary of dictionaries in the format:\n",
    "    sample x : pe informations\n",
    "    \"\"\"\n",
    "    dataset = {}\n",
    "    #directory = \"./data/\"\n",
    "    print(\"\")\n",
    "    print(\"[*] Extracting the PE file data: \")\n",
    "    print(\"\")\n",
    "    for subdir, dirs, files in os.walk(directory):\n",
    "        for f in files:\n",
    "            file_path = os.path.join(subdir, f)\n",
    "            \n",
    "            #print(magic.from_file(file_path))\n",
    "            if re.match('^PE.*', magic.from_file(file_path)):\n",
    "                try:\n",
    "                    #print(\"[+] \"+file_path)\n",
    "                    pe = peh.PEFile(file_path)\n",
    "                    dataset[str(f)] = pe.Construct()\n",
    "                except Exception as e:\n",
    "                    raise\n",
    "            else:\n",
    "                #print()\n",
    "                #print(\"[-] File not PE: \"+file_path+\" \\n=>\\t \"+magic.from_file(file_path))\n",
    "                #print()\n",
    "                #print(\"Removing file.\")\n",
    "                os.remove(file_path)\n",
    "    return dataset\n",
    "    \n",
    "    "
   ]
  },
  {
   "cell_type": "markdown",
   "metadata": {},
   "source": [
    "### Testing the pe2vec() method and PEFile class\n",
    "\n",
    "Print out the dataset for the Malware and Clean Samples\n"
   ]
  },
  {
   "cell_type": "code",
   "execution_count": 13,
   "metadata": {},
   "outputs": [],
   "source": [
    "# for subdir, dirs, files in os.walk(\"./data/check/\"):\n",
    "#         for f in files:\n",
    "#             #print(f)\n",
    "#             os.rename(\"./data/check/\" + f, \"./data/check/\" + sha256_checksum(\"./data/check/\" + f))\n",
    "            \n",
    "# print(\"Done Renaming files to sha256\")"
   ]
  },
  {
   "cell_type": "code",
   "execution_count": 14,
   "metadata": {},
   "outputs": [
    {
     "name": "stdout",
     "output_type": "stream",
     "text": [
      "\n",
      "[*] Extracting the PE file data: \n",
      "\n",
      "\n",
      "[*] PE information:\n",
      "\n",
      "\n",
      "[*] Completed PE information extraction:\n",
      "\n"
     ]
    }
   ],
   "source": [
    "# create a dataset dictionary from the collected PE file information\n",
    "# we might consider adding an MD5 hash value and aappend it to a new column\n",
    "# an asscoiated MD5 value could be used to lookup the VirusToltal score to confirm it is Malware if we did not get the sample from a good source\n",
    "ds_check = {}\n",
    "ds_check = pe2vec(\"./data/check/\")\n",
    "print(\"\")\n",
    "print(\"[*] PE information:\")\n",
    "print(\"\")\n",
    "#pp.pprint(ds_malware)\n",
    "\n",
    "print(\"\")\n",
    "print(\"[*] Completed PE information extraction:\")\n",
    "print(\"\")"
   ]
  },
  {
   "cell_type": "markdown",
   "metadata": {},
   "source": [
    "Loop trough all samples in a folder and process each one of them then dump all those dictionaries into a csv file that we will use ."
   ]
  },
  {
   "cell_type": "code",
   "execution_count": 15,
   "metadata": {
    "scrolled": true
   },
   "outputs": [],
   "source": [
    "# now that we have a dictionary let's put it in a clean csv file\n",
    "def vec2csv(dataset, output_file):\n",
    "    df = pd.DataFrame(dataset)\n",
    "    test_data = df.transpose()  # transpose to have the features as columns and samples as rows\n",
    "# utf-8 is prefered \n",
    "#output_file = './output/dataset.csv'\n",
    "    test_data.to_csv(output_file,sep=',', encoding='utf-8')\n",
    "    print(\"\")\n",
    "    print(\"[+] Saving file to: \" + output_file)\n",
    "    print(\"\")\n",
    "        \n",
    "        "
   ]
  },
  {
   "cell_type": "markdown",
   "metadata": {},
   "source": [
    "### Export the dataset as a csv file"
   ]
  },
  {
   "cell_type": "code",
   "execution_count": 16,
   "metadata": {},
   "outputs": [
    {
     "name": "stdout",
     "output_type": "stream",
     "text": [
      "\n",
      "[+] Saving file to: ./dataset/dataset_check.csv\n",
      "\n"
     ]
    }
   ],
   "source": [
    "datasetOutput_malware = \"./dataset/dataset_check.csv\"\n",
    "vec2csv(ds_check, datasetOutput_malware)"
   ]
  },
  {
   "cell_type": "markdown",
   "metadata": {},
   "source": [
    "Use Magic %matplotlib to display graphics inline instead of in a popup window.\n",
    "\n"
   ]
  },
  {
   "cell_type": "code",
   "execution_count": 17,
   "metadata": {
    "scrolled": true
   },
   "outputs": [],
   "source": [
    "%matplotlib inline\n",
    "\n"
   ]
  },
  {
   "cell_type": "markdown",
   "metadata": {},
   "source": [
    "#### Check Dataframe"
   ]
  },
  {
   "cell_type": "code",
   "execution_count": 18,
   "metadata": {
    "scrolled": true
   },
   "outputs": [
    {
     "data": {
      "text/html": [
       "<div>\n",
       "<style scoped>\n",
       "    .dataframe tbody tr th:only-of-type {\n",
       "        vertical-align: middle;\n",
       "    }\n",
       "\n",
       "    .dataframe tbody tr th {\n",
       "        vertical-align: top;\n",
       "    }\n",
       "\n",
       "    .dataframe thead th {\n",
       "        text-align: right;\n",
       "    }\n",
       "</style>\n",
       "<table border=\"1\" class=\"dataframe\">\n",
       "  <thead>\n",
       "    <tr style=\"text-align: right;\">\n",
       "      <th></th>\n",
       "      <th>Unnamed: 0</th>\n",
       "      <th>filename</th>\n",
       "      <th>e_magic</th>\n",
       "      <th>e_cblp</th>\n",
       "      <th>e_cp</th>\n",
       "      <th>e_crlc</th>\n",
       "      <th>e_cparhdr</th>\n",
       "      <th>e_minalloc</th>\n",
       "      <th>e_maxalloc</th>\n",
       "      <th>e_ss</th>\n",
       "      <th>...</th>\n",
       "      <th>IATSize</th>\n",
       "      <th>DelayImportRVA</th>\n",
       "      <th>DelayImportSize</th>\n",
       "      <th>COMDescriptorRVA</th>\n",
       "      <th>COMDescriptorSize</th>\n",
       "      <th>ImportedDLL</th>\n",
       "      <th>NumberOfImportDLL</th>\n",
       "      <th>SectionNames</th>\n",
       "      <th>NumberOfImportFunctions</th>\n",
       "      <th>ImportedFunctions</th>\n",
       "    </tr>\n",
       "  </thead>\n",
       "  <tbody>\n",
       "    <tr>\n",
       "      <th>0</th>\n",
       "      <td>2a389c51349d6c3f0180538b64e1939fc8cff79fa3a2aa...</td>\n",
       "      <td>./data/check/2a389c51349d6c3f0180538b64e1939fc...</td>\n",
       "      <td>23117</td>\n",
       "      <td>144</td>\n",
       "      <td>3</td>\n",
       "      <td>0</td>\n",
       "      <td>4</td>\n",
       "      <td>0</td>\n",
       "      <td>65535</td>\n",
       "      <td>0</td>\n",
       "      <td>...</td>\n",
       "      <td>80</td>\n",
       "      <td>0</td>\n",
       "      <td>0</td>\n",
       "      <td>0</td>\n",
       "      <td>0</td>\n",
       "      <td>{'USER32.dll': 'MoveWindow', 'KERNEL32.dll': '...</td>\n",
       "      <td>2</td>\n",
       "      <td>{'.text\\x00\\x00\\x00': 142336, '.data\\x00\\x00\\x...</td>\n",
       "      <td>18</td>\n",
       "      <td>['OpenIcon', 'CreatePopupMenu', 'CloseWindow',...</td>\n",
       "    </tr>\n",
       "    <tr>\n",
       "      <th>1</th>\n",
       "      <td>2a38b2017c26f04b2deab479be2c0ea011b548d9f2ff30...</td>\n",
       "      <td>./data/check/2a38b2017c26f04b2deab479be2c0ea01...</td>\n",
       "      <td>23117</td>\n",
       "      <td>144</td>\n",
       "      <td>3</td>\n",
       "      <td>0</td>\n",
       "      <td>4</td>\n",
       "      <td>0</td>\n",
       "      <td>65535</td>\n",
       "      <td>0</td>\n",
       "      <td>...</td>\n",
       "      <td>484</td>\n",
       "      <td>0</td>\n",
       "      <td>0</td>\n",
       "      <td>0</td>\n",
       "      <td>0</td>\n",
       "      <td>{'WS2_32.dll': 'inet_addr', 'RPCRT4.dll': 'Uui...</td>\n",
       "      <td>7</td>\n",
       "      <td>{'.text\\x00\\x00\\x00': 143360, '.rdata\\x00\\x00'...</td>\n",
       "      <td>114</td>\n",
       "      <td>['htonl', 'ntohl', 'inet_addr', 'UuidFromStrin...</td>\n",
       "    </tr>\n",
       "    <tr>\n",
       "      <th>2</th>\n",
       "      <td>2a44946b461e2435e77add694c1e4f625e6c8cec561813...</td>\n",
       "      <td>./data/check/2a44946b461e2435e77add694c1e4f625...</td>\n",
       "      <td>23117</td>\n",
       "      <td>144</td>\n",
       "      <td>3</td>\n",
       "      <td>0</td>\n",
       "      <td>4</td>\n",
       "      <td>0</td>\n",
       "      <td>65535</td>\n",
       "      <td>0</td>\n",
       "      <td>...</td>\n",
       "      <td>108</td>\n",
       "      <td>0</td>\n",
       "      <td>0</td>\n",
       "      <td>0</td>\n",
       "      <td>0</td>\n",
       "      <td>{'ntoskrnl.exe': 'RtlUnwind', 'HAL.dll': 'KeGe...</td>\n",
       "      <td>2</td>\n",
       "      <td>{'.text\\x00\\x00\\x00': 59904, '.rdata\\x00\\x00':...</td>\n",
       "      <td>25</td>\n",
       "      <td>['RtlInitUnicodeString', '_allmul', '_alldiv',...</td>\n",
       "    </tr>\n",
       "    <tr>\n",
       "      <th>3</th>\n",
       "      <td>2a496265df0d56fd40522f5f392734b920cd3513a9ef6a...</td>\n",
       "      <td>./data/check/2a496265df0d56fd40522f5f392734b92...</td>\n",
       "      <td>23117</td>\n",
       "      <td>144</td>\n",
       "      <td>3</td>\n",
       "      <td>0</td>\n",
       "      <td>4</td>\n",
       "      <td>0</td>\n",
       "      <td>65535</td>\n",
       "      <td>0</td>\n",
       "      <td>...</td>\n",
       "      <td>108</td>\n",
       "      <td>0</td>\n",
       "      <td>0</td>\n",
       "      <td>0</td>\n",
       "      <td>0</td>\n",
       "      <td>{'ntoskrnl.exe': 'RtlUnwind', 'HAL.dll': 'KeGe...</td>\n",
       "      <td>2</td>\n",
       "      <td>{'.text\\x00\\x00\\x00': 59904, '.rdata\\x00\\x00':...</td>\n",
       "      <td>25</td>\n",
       "      <td>['RtlInitUnicodeString', '_allmul', '_alldiv',...</td>\n",
       "    </tr>\n",
       "    <tr>\n",
       "      <th>4</th>\n",
       "      <td>2a5180b99dcf09fd1cf91a53aaa01b97843d942253f8f3...</td>\n",
       "      <td>./data/check/2a5180b99dcf09fd1cf91a53aaa01b978...</td>\n",
       "      <td>23117</td>\n",
       "      <td>144</td>\n",
       "      <td>3</td>\n",
       "      <td>0</td>\n",
       "      <td>4</td>\n",
       "      <td>0</td>\n",
       "      <td>65535</td>\n",
       "      <td>0</td>\n",
       "      <td>...</td>\n",
       "      <td>436</td>\n",
       "      <td>0</td>\n",
       "      <td>0</td>\n",
       "      <td>0</td>\n",
       "      <td>0</td>\n",
       "      <td>{'COMCTL32.dll': 'ImageList_Remove', 'USER32.d...</td>\n",
       "      <td>5</td>\n",
       "      <td>{'.text\\x00\\x00\\x00': 163840, '.refee\\x00\\x00'...</td>\n",
       "      <td>103</td>\n",
       "      <td>['DestroyPropertySheetPage', 'PropertySheetW',...</td>\n",
       "    </tr>\n",
       "  </tbody>\n",
       "</table>\n",
       "<p>5 rows × 92 columns</p>\n",
       "</div>"
      ],
      "text/plain": [
       "                                          Unnamed: 0  \\\n",
       "0  2a389c51349d6c3f0180538b64e1939fc8cff79fa3a2aa...   \n",
       "1  2a38b2017c26f04b2deab479be2c0ea011b548d9f2ff30...   \n",
       "2  2a44946b461e2435e77add694c1e4f625e6c8cec561813...   \n",
       "3  2a496265df0d56fd40522f5f392734b920cd3513a9ef6a...   \n",
       "4  2a5180b99dcf09fd1cf91a53aaa01b97843d942253f8f3...   \n",
       "\n",
       "                                            filename  e_magic  e_cblp  e_cp  \\\n",
       "0  ./data/check/2a389c51349d6c3f0180538b64e1939fc...    23117     144     3   \n",
       "1  ./data/check/2a38b2017c26f04b2deab479be2c0ea01...    23117     144     3   \n",
       "2  ./data/check/2a44946b461e2435e77add694c1e4f625...    23117     144     3   \n",
       "3  ./data/check/2a496265df0d56fd40522f5f392734b92...    23117     144     3   \n",
       "4  ./data/check/2a5180b99dcf09fd1cf91a53aaa01b978...    23117     144     3   \n",
       "\n",
       "   e_crlc  e_cparhdr  e_minalloc  e_maxalloc  e_ss  ...  IATSize  \\\n",
       "0       0          4           0       65535     0  ...       80   \n",
       "1       0          4           0       65535     0  ...      484   \n",
       "2       0          4           0       65535     0  ...      108   \n",
       "3       0          4           0       65535     0  ...      108   \n",
       "4       0          4           0       65535     0  ...      436   \n",
       "\n",
       "   DelayImportRVA  DelayImportSize  COMDescriptorRVA  COMDescriptorSize  \\\n",
       "0               0                0                 0                  0   \n",
       "1               0                0                 0                  0   \n",
       "2               0                0                 0                  0   \n",
       "3               0                0                 0                  0   \n",
       "4               0                0                 0                  0   \n",
       "\n",
       "                                         ImportedDLL NumberOfImportDLL  \\\n",
       "0  {'USER32.dll': 'MoveWindow', 'KERNEL32.dll': '...                 2   \n",
       "1  {'WS2_32.dll': 'inet_addr', 'RPCRT4.dll': 'Uui...                 7   \n",
       "2  {'ntoskrnl.exe': 'RtlUnwind', 'HAL.dll': 'KeGe...                 2   \n",
       "3  {'ntoskrnl.exe': 'RtlUnwind', 'HAL.dll': 'KeGe...                 2   \n",
       "4  {'COMCTL32.dll': 'ImageList_Remove', 'USER32.d...                 5   \n",
       "\n",
       "                                        SectionNames  NumberOfImportFunctions  \\\n",
       "0  {'.text\\x00\\x00\\x00': 142336, '.data\\x00\\x00\\x...                       18   \n",
       "1  {'.text\\x00\\x00\\x00': 143360, '.rdata\\x00\\x00'...                      114   \n",
       "2  {'.text\\x00\\x00\\x00': 59904, '.rdata\\x00\\x00':...                       25   \n",
       "3  {'.text\\x00\\x00\\x00': 59904, '.rdata\\x00\\x00':...                       25   \n",
       "4  {'.text\\x00\\x00\\x00': 163840, '.refee\\x00\\x00'...                      103   \n",
       "\n",
       "                                   ImportedFunctions  \n",
       "0  ['OpenIcon', 'CreatePopupMenu', 'CloseWindow',...  \n",
       "1  ['htonl', 'ntohl', 'inet_addr', 'UuidFromStrin...  \n",
       "2  ['RtlInitUnicodeString', '_allmul', '_alldiv',...  \n",
       "3  ['RtlInitUnicodeString', '_allmul', '_alldiv',...  \n",
       "4  ['DestroyPropertySheetPage', 'PropertySheetW',...  \n",
       "\n",
       "[5 rows x 92 columns]"
      ]
     },
     "execution_count": 18,
     "metadata": {},
     "output_type": "execute_result"
    }
   ],
   "source": [
    "# get the dataframe\n",
    "df_check = pd.read_csv(\"./dataset/dataset_check.csv\")\n",
    "df_check.shape\n",
    "df_check.head(5)\n",
    "\n"
   ]
  },
  {
   "cell_type": "code",
   "execution_count": null,
   "metadata": {},
   "outputs": [],
   "source": []
  }
 ],
 "metadata": {
  "kernelspec": {
   "display_name": "Python 3 (ipykernel)",
   "language": "python",
   "name": "python3"
  },
  "language_info": {
   "codemirror_mode": {
    "name": "ipython",
    "version": 3
   },
   "file_extension": ".py",
   "mimetype": "text/x-python",
   "name": "python",
   "nbconvert_exporter": "python",
   "pygments_lexer": "ipython3",
   "version": "3.11.7"
  }
 },
 "nbformat": 4,
 "nbformat_minor": 4
}
